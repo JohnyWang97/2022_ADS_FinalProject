{
 "cells": [
  {
   "cell_type": "markdown",
   "metadata": {
    "_cell_guid": "b1076dfc-b9ad-4769-8c92-a6c4dae69d19",
    "_uuid": "8f2839f25d086af736a60e9eeb907d3b93b6e0e5"
   },
   "source": [
    "The code in this notebook generated the RMSE score of 3.099. The progress has been slow ever since. It appears that in general band of brothers and sisters around Keras and TensorFlow are suffering. \n",
    "\n",
    "Best Val MAE of 1.50873. 500K/6M-128/128/64/32/16/8/1 - 32/1024 - 35 Features - loss: 11.0058 - mean_absolute_error: 1.5223 - val_loss: 11.7594 - val_mean_absolute_error: 1.5686  - MacBook Processing - Modified code to add quarter of the year  - the ranking increased by 14.  Used Best Model Approach!\n",
    "\n",
    "import os\n",
    "print(os.listdir(\"../input\"))\n",
    "\n",
    "# Any results you write to the current directory are saved as output."
   ]
  },
  {
   "cell_type": "code",
   "execution_count": 62,
   "metadata": {
    "_cell_guid": "79c7e3d0-c299-4dcb-8224-4455121ee9b0",
    "_uuid": "d629ff2d2480ee46fbb7e2d37f6b5fab8052498a"
   },
   "outputs": [
    {
     "name": "stdout",
     "output_type": "stream",
     "text": [
      "2.8.0\n"
     ]
    }
   ],
   "source": [
    "# Let's start with standard libraries\n",
    "# The seed setting is an attempt to get consistent results from Keras. \n",
    "from numpy.random import seed\n",
    "import keras\n",
    "from keras import backend as K\n",
    "import tensorflow as tf\n",
    "tf.random.set_seed(40)\n",
    "import os\n",
    "import glob\n",
    "import datetime \n",
    "# Define the necessary libraries required to define Keras Regression Netowrk\n",
    "from keras import models\n",
    "from keras import layers\n",
    "from keras import optimizers\n",
    "from keras import regularizers\n",
    "\n",
    "from keras.models import load_model\n",
    "from keras.callbacks import ModelCheckpoint\n",
    "import numpy as np \n",
    "import pandas as pd \n",
    "import matplotlib.pyplot as plt\n",
    "from sklearn.preprocessing import StandardScaler\n",
    "from sklearn.model_selection import train_test_split\n",
    "print(keras.__version__)"
   ]
  },
  {
   "cell_type": "code",
   "execution_count": 4,
   "metadata": {
    "_uuid": "ef3e6f4c90ff98f2cea26ca1f558b6e8352c5b36"
   },
   "outputs": [],
   "source": [
    "#using four main areas for reference\n",
    "JFK = (-73.7822222222, 40.6441666667)\n",
    "NYC = (-74.0063889, 40.7141667)\n",
    "EWR = (-74.175, 40.6897222222)\n",
    "LGA = (-73.8739659, 40.7769271)"
   ]
  },
  {
   "cell_type": "code",
   "execution_count": 5,
   "metadata": {
    "_uuid": "61a43eaa9c2bb07ba2d70c0515e9cb6ff20b63be"
   },
   "outputs": [],
   "source": [
    "# if p = 1, then this is the Manhattan distance and if p = 2 this is the Euclidean distance.\n",
    "def minkowski_distance(x1, x2, y1, y2, p):\n",
    "    return ((abs(x2 - x1) ** p) + (abs(y2 - y1)) ** p) ** (1 / p)     \n",
    "\n",
    "def minkowski_distance_3D(x1, x2, y1, y2, z1, z2, p):\n",
    "    return ((abs(x2 - x1) ** p) + (abs(y2 - y1) ** p) + (abs(z2 - z1) ** p)) ** (1 / p)\n",
    "\n",
    "def calculate_direction(d_lon, d_lat):\n",
    "    \n",
    "    result = np.zeros(len(d_lon))\n",
    "    \n",
    "    l = np.sqrt(d_lon**2 + d_lat**2)\n",
    "    result[d_lon>0] = (180/np.pi)*np.arcsin(d_lat[d_lon>0]/l[d_lon>0])\n",
    "    idx = (d_lon<0) & (d_lat>0)\n",
    "    result[idx] = 180 - (180/np.pi)*np.arcsin(d_lat[idx]/l[idx])\n",
    "    idx = (d_lon<0) & (d_lat<0)\n",
    "    result[idx] = -180 - (180/np.pi)*np.arcsin(d_lat[idx]/l[idx])\n",
    "    \n",
    "    return result\n",
    "\n",
    "def time_type_of_the_day(hour):\n",
    "    \n",
    "    time_of_the_day = 2\n",
    "    \n",
    "    if (hour >= 4 and hour < 7):\n",
    "        time_of_the_day = 1 # Early Morning\n",
    "    elif (hour >= 7 and hour < 12):\n",
    "        time_of_the_day = 2 # Morning\n",
    "    elif (hour >= 12 and hour < 16):\n",
    "        time_of_the_day = 3 # Noon\n",
    "    elif (hour >= 16 and hour < 20):\n",
    "        time_of_the_day = 4 # Evening\n",
    "    elif (hour >= 20 and hour < 23):\n",
    "        time_of_the_day = 5 # Night\n",
    "    elif (hour >= 23 and hour < 4):\n",
    "        time_of_the_day = 6 # Late Night\n",
    "    else:\n",
    "        time_of_the_day = 2 # Morning Default\n",
    "\n",
    "    return time_of_the_day\n",
    "\n",
    "# The day of the week with Monday=0, Sunday=6\n",
    "# 0.5 of additional surcharge between 8PM - 6AM.\n",
    "# Peak hour weekday surcharge of $1 Monday-Friday between 4PM-8PM.\n",
    "def peak_hours_of_the_day(hour, weekday):\n",
    "    \n",
    "    peak_hours = 0\n",
    "    \n",
    "    if (0 <= weekday <= 4) and (16 <= hour <= 20):\n",
    "        peak_hours = 1\n",
    "        \n",
    "    return peak_hours\n",
    "\n",
    "# The day of the week with Monday=0, Sunday=6\n",
    "# 0.5 of additional surcharge between 8PM - 6AM.\n",
    "# Peak hour weekday surcharge of $1 Monday-Friday between 4PM-8PM.\n",
    "def surcharge_hours_of_the_day(hour):\n",
    "    \n",
    "    surcharge_hours = 0\n",
    "    \n",
    "    if (hour >= 20 or hour <= 6):\n",
    "        surcharge_hours = 1\n",
    "        \n",
    "    return surcharge_hours\n",
    "\n",
    "def add_travel_vector_features(df):\n",
    "    \n",
    "    df['delta_longitude'] = df.pickup_longitude - df.dropoff_longitude\n",
    "    df['delta_latitude'] = df.pickup_latitude - df.dropoff_latitude\n",
    "\n",
    "    df['pickup_x'] = np.cos(df.pickup_latitude) * np.cos(df.pickup_longitude)\n",
    "    df['pickup_y'] = np.cos(df.pickup_latitude) * np.sin(df.pickup_longitude)\n",
    "    df['pickup_z'] = np.sin(df.pickup_latitude)\n",
    "    \n",
    "    df['dropoff_x'] = np.cos(df.dropoff_latitude) * np.cos(df.dropoff_longitude)\n",
    "    df['dropoff_y'] = np.cos(df.dropoff_latitude) * np.sin(df.dropoff_longitude)\n",
    "    df['dropoff_z'] = np.sin(df.dropoff_latitude)"
   ]
  },
  {
   "cell_type": "code",
   "execution_count": 12,
   "metadata": {
    "_uuid": "bda605b483c64ba64fbf20cc7f33d7cb8880c58e"
   },
   "outputs": [],
   "source": [
    "def parse_and_extract_date_time_components(df):\n",
    "        \n",
    "    df['pickup_datetime'] =  pd.to_datetime(df['pickup_datetime'], format='%Y-%m-%d %H:%M:%S %Z')\n",
    "      \n",
    "    df['year'] = df['pickup_datetime'].apply(lambda x: x.year)\n",
    "    df['month'] = df['pickup_datetime'].apply(lambda x: x.month)\n",
    "    df['day'] = df['pickup_datetime'].apply(lambda x: x.day)\n",
    "    df['hour'] = df['pickup_datetime'].apply(lambda x: x.hour)\n",
    "    df['minute'] = df['pickup_datetime'].apply(lambda x: x.minute)\n",
    "    df['weekday'] = df['pickup_datetime'].apply(lambda x: x.dayofweek)\n",
    "    df['weekofyear'] = df['pickup_datetime'].apply(lambda x: x.weekofyear)\n",
    "    df['dayofyear'] = df['pickup_datetime'].apply(lambda x: x.dayofyear)\n",
    "    df['quarterofyear'] = df['pickup_datetime'].apply(lambda x: x.quarter)\n",
    "    df['days_in_month'] = df['pickup_datetime'].apply(lambda x: x.days_in_month)\n",
    "    df['linear_time'] = df['pickup_datetime'].apply(lambda x: x.value // 10 ** 9)    \n",
    "    df['time_type_of_the_day'] = df['pickup_datetime'].apply (lambda x: time_type_of_the_day(x.hour)) \n",
    "    df['peak_hours'] = df['pickup_datetime'].apply(lambda x: peak_hours_of_the_day(x.hour, x.dayofweek))\n",
    "    df['surcharge'] = df['pickup_datetime'].apply(lambda x: surcharge_hours_of_the_day(x.hour))\n",
    "    \n",
    "    # Process cyclical values using sin and cosine transformations\n",
    "    # These are better than one-hot encoding and helped me a lot to keep features compact.\n",
    "    \n",
    "    df['hour_sin'] = np.sin(df.hour * (2. * np.pi / 24))\n",
    "    df['hour_cos'] = np.cos(df.hour * (2. * np.pi / 24))\n",
    " \n",
    "    df['minute_sin'] = np.sin(df.minute * (2. * np.pi / 60))\n",
    "    df['minute_cos'] = np.cos(df.minute * (2. * np.pi / 60))\n",
    "    \n",
    "    df['time_type_of_day_sin'] = np.sin(df.time_type_of_the_day * (2. * np.pi / 6))\n",
    "    df['time_type_of_day_cos'] = np.cos(df.time_type_of_the_day * (2. * np.pi / 6))\n",
    "    \n",
    "    df['month_sin'] = np.sin((df.month - 1) * (2. * np.pi / 12))\n",
    "    df['month_cos'] = np.cos((df.month - 1) * (2. * np.pi / 12))\n",
    "\n",
    "    df['day_sin'] = np.sin((df.day - 1) * (2. * np.pi / df.days_in_month))\n",
    "    df['day_cos'] = np.cos((df.day - 1) * (2. * np.pi / df.days_in_month))\n",
    "    \n",
    "    df['weekday_sin'] = np.sin((df.weekday - 1) * (2. * np.pi / 7))\n",
    "    df['weekday_cos'] = np.cos((df.weekday - 1) * (2. * np.pi / 7))\n",
    "    \n",
    "    df['weekofyear_sin'] = np.sin((df.weekofyear - 1) * (2. * np.pi / 52))\n",
    "    df['weekofyear_cos'] = np.cos((df.weekofyear - 1) * (2. * np.pi / 52))\n",
    "  \n",
    "    df['dayofyear_sin'] = np.sin((df.dayofyear - 1) * (2. * np.pi / 365))\n",
    "    df['dayofyear_cos'] = np.cos((df.dayofyear - 1) * (2. * np.pi / 365))\n",
    "\n",
    "    df['quarterofyear_sin'] = np.sin((df.quarterofyear - 1) * (2. * np.pi / 4))\n",
    "    df['quarterofyear_cos'] = np.cos((df.quarterofyear - 1) * (2. * np.pi / 4))\n",
    "\n",
    "    # Clean Up Extra Features which may not be needed\n",
    "    del df['hour']\n",
    "    del df['minute']\n",
    "    del df['month']\n",
    "    del df['day']\n",
    "    del df['weekday']\n",
    "    del df['days_in_month']\n",
    "    del df['time_type_of_the_day']\n",
    "    del df['weekofyear']\n",
    "    del df['quarterofyear']    "
   ]
  },
  {
   "cell_type": "code",
   "execution_count": 13,
   "metadata": {
    "_uuid": "99c05f31f62f329dd6096dfab49bd748a7cfdd8c"
   },
   "outputs": [],
   "source": [
    "# Calculate NY Manhattan Distance using longitude and lattitude\n",
    "def haversine_np(lon1, lat1, lon2, lat2):\n",
    "    \n",
    "    \"\"\"\n",
    "    Calculate the great circle distance between two points\n",
    "    on the earth (specified in decimal degrees)\n",
    "\n",
    "    All args must be of equal length.    \n",
    "\n",
    "    \"\"\"\n",
    "    \n",
    "    lon1, lat1, lon2, lat2 = map(np.radians, [lon1, lat1, lon2, lat2])\n",
    "\n",
    "    dlon = lon2 - lon1\n",
    "    dlat = lat2 - lat1\n",
    "\n",
    "    a = np.sin(dlat/2.0)**2 + np.cos(lat1) * np.cos(lat2) * np.sin(dlon/2.0)**2\n",
    "\n",
    "    c = 2 * np.arcsin(np.sqrt(a))\n",
    "    \n",
    "    miles = 3959 * c\n",
    "    \n",
    "    return miles"
   ]
  },
  {
   "cell_type": "code",
   "execution_count": 87,
   "metadata": {
    "_uuid": "4e02ede527e45fbff3664bdc8ce2bc9b5e200609"
   },
   "outputs": [
    {
     "name": "stdout",
     "output_type": "stream",
     "text": [
      "key                   0\n",
      "fare_amount           0\n",
      "pickup_datetime       0\n",
      "pickup_longitude      0\n",
      "pickup_latitude       0\n",
      "dropoff_longitude    39\n",
      "dropoff_latitude     39\n",
      "passenger_count       0\n",
      "dtype: int64\n",
      " Old size: 6000000\n",
      " New size: 5999961\n"
     ]
    }
   ],
   "source": [
    "# Now read the training set\n",
    "\n",
    "# To play with only subset of the data\n",
    "df_subset =  pd.read_csv('NYC_taxi_fare.csv',nrows=6000000)\n",
    "\n",
    "# count rows with null values\n",
    "print(df_subset.isnull().sum())\n",
    "# Let's drop the null values\n",
    "print(' Old size: %d' % len(df_subset))\n",
    "df_subset = df_subset.dropna(how = 'any', axis = 'rows')\n",
    "\n",
    "print(' New size: %d' % len(df_subset))"
   ]
  },
  {
   "cell_type": "code",
   "execution_count": 88,
   "metadata": {
    "_uuid": "eb2084fb865e107e15fc0cd77d466998f4cf59f0"
   },
   "outputs": [
    {
     "name": "stderr",
     "output_type": "stream",
     "text": [
      "/Users/wangjunren/opt/anaconda3/lib/python3.7/site-packages/ipykernel_launcher.py:11: FutureWarning: weekofyear and week have been deprecated, please use DatetimeIndex.isocalendar().week instead, which returns a Series.  To exactly reproduce the behavior of week and weekofyear and return an Index, you may call pd.Int64Index(idx.isocalendar().week)\n",
      "  # This is added back by InteractiveShellApp.init_path()\n"
     ]
    },
    {
     "name": "stdout",
     "output_type": "stream",
     "text": [
      "NYC_taxi_fare Before dropping Zero pickup longitude and latitude - Old size: 5999961\n",
      "NYC_taxi_fare After dropping Zero pickup longitude and latitude - New size: 5885814\n",
      "NYC_taxi_fare Before dropping Zero dropoff longitude and latitude - Old size: 5885814\n",
      "NYC_taxi_fare After dropping Zero dropoff longitude and latitude - New size: 5880480\n",
      "NYC_taxi_fare Before dropping really large lat and lon Outliers - Old size: 5880480\n",
      "NYC_taxi_fare After dropping really large lat and lon Outliers - New size: 5879001\n",
      "NYC_taxi_fare Before dropping zero delta lat and long values - Old size: 5879001\n",
      "NYC_taxi_fare After dropping delta lat and long values - New size: 5813825\n",
      "NYC_taxi_fare Before dropping NEGATIVE FARE VALUES - Old size: 5813825\n",
      "NYC_taxi_fare After dropping NEGATIVE FARE VALUES - New size: 5813504\n",
      "NYC_taxi_fare Before dropping Zero Passenger Counts - Old size: 5813504\n",
      "NYC_taxi_fare After dropping Zero Passenger Counts - New size: 5792908\n"
     ]
    }
   ],
   "source": [
    "fname = 'NYC_taxi_fare'\n",
    "# Important feature here two dimensional latitude and longitudes to three dimesnional coordinate systems.\n",
    "add_travel_vector_features(df_subset)\n",
    "\n",
    "# Extract various date components.\n",
    "parse_and_extract_date_time_components(df_subset)\n",
    "\n",
    "# NEED TO CHECK THIS VALUE - PROBABLY FIND OUT THE MAXIMUM RANGE OF NEW YORK CITY LIMITS\n",
    "\n",
    "print(fname + ' Before dropping Zero pickup longitude and latitude - Old size: %d' % len(df_subset))\n",
    "df_subset = df_subset[(df_subset.pickup_longitude != 0.) & (df_subset.pickup_latitude != 0.)]\n",
    "print(fname + ' After dropping Zero pickup longitude and latitude - New size: %d' % len(df_subset))\n",
    "\n",
    "print(fname + ' Before dropping Zero dropoff longitude and latitude - Old size: %d' % len(df_subset))\n",
    "df_subset = df_subset[(df_subset.dropoff_longitude != 0.) & (df_subset.dropoff_latitude != 0.)]\n",
    "print(fname + ' After dropping Zero dropoff longitude and latitude - New size: %d' % len(df_subset))\n",
    "\n",
    "print(fname + ' Before dropping really large lat and lon Outliers - Old size: %d' % len(df_subset))\n",
    "df_subset = df_subset[(df_subset.delta_longitude.abs() < 5.0) & (df_subset.delta_latitude.abs() < 5.0)]\n",
    "print(fname + ' After dropping really large lat and lon Outliers - New size: %d' % len(df_subset))\n",
    "\n",
    "print(fname + ' Before dropping zero delta lat and long values - Old size: %d' % len(df_subset))\n",
    "df_subset = df_subset[(df_subset.delta_longitude != 0.) & (df_subset.delta_latitude != 0.)]\n",
    "print(fname + ' After dropping delta lat and long values - New size: %d' % len(df_subset))\n",
    "\n",
    "# ADD CODE TO CHECK FOR NEGATIVE FARES\n",
    "print(fname + ' Before dropping NEGATIVE FARE VALUES - Old size: %d' % len(df_subset))\n",
    "df_subset = df_subset[(df_subset.fare_amount > 0.)]\n",
    "print(fname + ' After dropping NEGATIVE FARE VALUES - New size: %d' % len(df_subset))\n",
    "\n",
    "# ADD CODE TO CHECK FOR ZERO PASSENGER COUNTS\n",
    "print(fname + ' Before dropping Zero Passenger Counts - Old size: %d' % len(df_subset))\n",
    "df_subset = df_subset[(df_subset.passenger_count > 0) & (df_subset.passenger_count < 7)]\n",
    "print(fname + ' After dropping Zero Passenger Counts - New size: %d' % len(df_subset))\n"
   ]
  },
  {
   "cell_type": "code",
   "execution_count": 89,
   "metadata": {
    "_uuid": "c96f46613aa75e599f7ed6c110a2737743296f35",
    "scrolled": true
   },
   "outputs": [
    {
     "name": "stdout",
     "output_type": "stream",
     "text": [
      "NYC_taxi_fare Before dropping HIGH FARE AMOUNTS - Old size: 5792908\n",
      "NYC_taxi_fare After dropping HIGH FARE AMOUNTS - New size: 5792813\n"
     ]
    }
   ],
   "source": [
    "# Extract more features for the model\n",
    "df_subset['distance_in_miles'] = haversine_np(df_subset.dropoff_longitude, df_subset.dropoff_latitude, df_subset.pickup_longitude, df_subset.pickup_latitude)\n",
    "\n",
    "df_subset['direction'] = calculate_direction(df_subset.delta_longitude, df_subset.delta_latitude)\n",
    "\n",
    "# JFK AS THE FRAME OF REFERENCE\n",
    "df_subset['pickup_to_JFK_distance'] = haversine_np(df_subset.pickup_longitude, df_subset.pickup_latitude, JFK[0], JFK[1]) \n",
    "df_subset['dropoff_to_JFK_distance'] = haversine_np(df_subset.dropoff_longitude, df_subset.dropoff_latitude, JFK[0], JFK[1]) \n",
    "\n",
    "# ALSO USE EWR AS ANOTHER FRAME OF REFERENCE IF REQUIRED\n",
    "df_subset['pickup_to_EWR_distance'] = haversine_np(df_subset.pickup_longitude, df_subset.pickup_latitude, EWR[0], EWR[1]) \n",
    "df_subset['dropoff_to_EWR_distance'] = haversine_np(df_subset.dropoff_longitude, df_subset.dropoff_latitude, EWR[0], EWR[1]) \n",
    "\n",
    "# ALSO USE LGA AS ANOTHER FRAME OF REFERENCE IF REQUIRED\n",
    "df_subset['pickup_to_LGA_distance'] = haversine_np(df_subset.pickup_longitude, df_subset.pickup_latitude, LGA[0], LGA[1]) \n",
    "df_subset['dropoff_to_LGA_distance'] = haversine_np(df_subset.dropoff_longitude, df_subset.dropoff_latitude, LGA[0], LGA[1]) \n",
    "\n",
    "# ALSO USE NYC AS ANOTHER FRAME OF REFERENCE IF REQUIRED\n",
    "df_subset['pickup_to_NYC_distance'] = haversine_np(df_subset.pickup_longitude, df_subset.pickup_latitude, NYC[0], NYC[1]) \n",
    "df_subset['dropoff_to_NYC_distance'] = haversine_np(df_subset.dropoff_longitude, df_subset.dropoff_latitude, NYC[0], NYC[1]) \n",
    "\n",
    "# For some reason my NN model didn't find Euclidean and Manhattan distances that important.\n",
    "\n",
    "# Calculate Manhattan Distance between two sets of GPS coordinates\n",
    "df_subset['manhattan'] = minkowski_distance(df_subset.pickup_longitude, df_subset.dropoff_longitude, \n",
    "                                           df_subset.pickup_latitude, df_subset.dropoff_latitude, 1)\n",
    "\n",
    "# Calcualte Euclidean Distance between two sets of GPS Coordinates\n",
    "df_subset['euclidean'] = minkowski_distance(df_subset.pickup_longitude, df_subset.dropoff_longitude, \n",
    "                                           df_subset.pickup_latitude, df_subset.dropoff_latitude, 2)\n",
    "\n",
    "# Calcualte 3D Euclidean Distance between two sets 3D GPS Coordinates\n",
    "df_subset['euclidean_3D'] = minkowski_distance_3D(df_subset.pickup_x, df_subset.dropoff_x, \n",
    "                                                 df_subset.pickup_y, df_subset.dropoff_y, \n",
    "                                                 df_subset.pickup_z, df_subset.dropoff_z, 2)\n",
    "\n",
    "# Calcualte 3D Manhattan Distance between two sets 3D GPS Coordinates\n",
    "df_subset['manhattan_3D'] = minkowski_distance_3D(df_subset.pickup_x, df_subset.dropoff_x, \n",
    "                                                 df_subset.pickup_y, df_subset.dropoff_y, \n",
    "                                                 df_subset.pickup_z, df_subset.dropoff_z, 1)\n",
    "\n",
    "# ADD CODE TO CHECK FOR REALLY HIGH FARE AMOUNTS\n",
    "print(fname + ' Before dropping HIGH FARE AMOUNTS - Old size: %d' % len(df_subset))\n",
    "df_subset = df_subset[(df_subset.fare_amount > 1.) & (df_subset.fare_amount < 251.)]\n",
    "print(fname + ' After dropping HIGH FARE AMOUNTS - New size: %d' % len(df_subset))\n"
   ]
  },
  {
   "cell_type": "code",
   "execution_count": 94,
   "metadata": {
    "_uuid": "8d1fec2e1195e0c67eaad31c9e0118850f1d717b"
   },
   "outputs": [],
   "source": [
    "# Extract the training features and standardize the values\n",
    "df_subset_x = df_subset.loc[:, [\n",
    "                                'passenger_count',\n",
    "                                'distance_in_miles',\n",
    "                                'pickup_x',\n",
    "                                'pickup_y',\n",
    "                                'pickup_z',\n",
    "                                'dropoff_x',\n",
    "                                'dropoff_y',\n",
    "                                'dropoff_z',\n",
    "                                'pickup_to_JFK_distance',\n",
    "                                'dropoff_to_JFK_distance',\n",
    "                                'pickup_to_NYC_distance',\n",
    "                                'dropoff_to_NYC_distance',\n",
    "                                'delta_longitude',\n",
    "                                'delta_latitude',\n",
    "                                'direction',\n",
    "                                'year',\n",
    "                                'linear_time',\n",
    "                                'peak_hours',\n",
    "                                'surcharge',\n",
    "                                'hour_sin',\n",
    "                                'hour_cos',\n",
    "                                'minute_sin',\n",
    "                                'minute_cos',\n",
    "                                'time_type_of_day_sin',\n",
    "                                'time_type_of_day_cos',\n",
    "                                'month_sin',\n",
    "                                'month_cos',\n",
    "                                'day_sin',\n",
    "                                'day_cos',\n",
    "                                'weekday_sin',\n",
    "                                'weekday_cos',\n",
    "                                'weekofyear_sin',\n",
    "                                'weekofyear_cos',\n",
    "                                'quarterofyear_sin',\n",
    "                                'quarterofyear_cos'\n",
    "                                ]].values\n",
    "\n",
    "# Extract the training label\n",
    "df_subset_label = df_subset.loc[:, 'fare_amount'].values\n",
    "\n",
    "# Standardize the training data\n",
    "mean = df_subset_x.mean(axis = 0)\n",
    "std = df_subset_x.std(axis = 0)\n",
    "\n",
    "df_subset_xstd  = (df_subset_x-mean)/ std"
   ]
  },
  {
   "cell_type": "code",
   "execution_count": 95,
   "metadata": {
    "_uuid": "3f4e3ee970901815547a85f4e32c59a798a87831"
   },
   "outputs": [],
   "source": [
    "num_validation_samples = 800000\n",
    "num_test_samples = 1000000\n",
    "\n",
    "# split input data into train/validation/test\n",
    "validation_set = df_subset_xstd[:num_validation_samples]\n",
    "test_set = df_subset_xstd[num_validation_samples:num_test_samples]\n",
    "training_set = df_subset_xstd[num_test_samples:]\n",
    "\n",
    "# split target data into train/validation/test\n",
    "validation_label = df_subset_label[:num_validation_samples]\n",
    "test_label = df_subset_label[num_validation_samples:num_test_samples]\n",
    "training_label = df_subset_label[num_test_samples:]\n"
   ]
  },
  {
   "cell_type": "code",
   "execution_count": 96,
   "metadata": {},
   "outputs": [
    {
     "data": {
      "text/plain": [
       "4792813"
      ]
     },
     "execution_count": 96,
     "metadata": {},
     "output_type": "execute_result"
    }
   ],
   "source": [
    "training_set.shape[0]"
   ]
  },
  {
   "cell_type": "code",
   "execution_count": 97,
   "metadata": {
    "_uuid": "b5a216068759f3a97e1e1ca33534efc785594173"
   },
   "outputs": [],
   "source": [
    "NN_INPUT_SIZE = training_set.shape[1]\n",
    "\n",
    "# Intialize the model\n",
    "model = models.Sequential()\n",
    "\n",
    "#model.add(layers.Dense(128, kernel_regularizer = regularizers.l1_l2(l1=0.001, l2=0.001), activation = 'relu', input_shape = (NN_INPUT_SIZE,)))\n",
    "model.add(layers.Dense(128, kernel_initializer = 'uniform', activation = 'relu', input_shape = (NN_INPUT_SIZE,)))\n",
    "#model.add(layers.Dropout(0.2))\n",
    "\n",
    "# Add a second layer\n",
    "model.add(layers.Dense(128, kernel_initializer = 'uniform', activation = 'relu'))\n",
    "#model.add(layers.Dropout(0.2))\n",
    "\n",
    "# Add a third layer\n",
    "#model.add(layers.Dense(64, kernel_regularizer = regularizers.l1_l2(l1=0.001, l2=0.001), activation = 'relu'))\n",
    "model.add(layers.Dense(64, kernel_initializer = 'uniform', activation = 'relu'))\n",
    "#model.add(layers.BatchNormalization())\n",
    "#model.add(layers.Dropout(0.2))\n",
    "\n",
    "# Add a fourth layer\n",
    "#model.add(layers.Dense(32, kernel_regularizer = regularizers.l1_l2(l1=0.001, l2=0.001), activation = 'relu'))\n",
    "model.add(layers.Dense(32, kernel_initializer = 'uniform', activation = 'relu'))\n",
    "#model.add(layers.BatchNormalization())\n",
    "#model.add(layers.Dropout(0.2))\n",
    "\n",
    "# Add a output layer without an activation function\n",
    "model.add(layers.Dense(1))\n",
    "\n",
    "model.compile(optimizer = 'rmsprop', loss = 'mse', metrics ='mean_absolute_error')\n",
    "\n",
    "\n"
   ]
  },
  {
   "cell_type": "code",
   "execution_count": 98,
   "metadata": {
    "_uuid": "3a5866534baeabb3483a650bc12b24f972e457b7",
    "scrolled": true
   },
   "outputs": [
    {
     "name": "stdout",
     "output_type": "stream",
     "text": [
      "Epoch 1/32\n",
      "4674/4681 [============================>.] - ETA: 0s - loss: 17.6966 - mean_absolute_error: 2.0337\n",
      "Epoch 1: val_mean_absolute_error improved from inf to 1.82265, saving model to NN_PredictionModel_Ref.h5\n",
      "4681/4681 [==============================] - 13s 3ms/step - loss: 17.6914 - mean_absolute_error: 2.0335 - val_loss: 14.3016 - val_mean_absolute_error: 1.8226\n",
      "Epoch 2/32\n",
      "4667/4681 [============================>.] - ETA: 0s - loss: 13.7706 - mean_absolute_error: 1.7900\n",
      "Epoch 2: val_mean_absolute_error improved from 1.82265 to 1.71967, saving model to NN_PredictionModel_Ref.h5\n",
      "4681/4681 [==============================] - 12s 3ms/step - loss: 13.7735 - mean_absolute_error: 1.7898 - val_loss: 13.1924 - val_mean_absolute_error: 1.7197\n",
      "Epoch 3/32\n",
      "4666/4681 [============================>.] - ETA: 0s - loss: 12.9554 - mean_absolute_error: 1.6991\n",
      "Epoch 3: val_mean_absolute_error improved from 1.71967 to 1.62973, saving model to NN_PredictionModel_Ref.h5\n",
      "4681/4681 [==============================] - 12s 2ms/step - loss: 12.9492 - mean_absolute_error: 1.6990 - val_loss: 12.9696 - val_mean_absolute_error: 1.6297\n",
      "Epoch 4/32\n",
      "4668/4681 [============================>.] - ETA: 0s - loss: 12.5224 - mean_absolute_error: 1.6543\n",
      "Epoch 4: val_mean_absolute_error improved from 1.62973 to 1.60461, saving model to NN_PredictionModel_Ref.h5\n",
      "4681/4681 [==============================] - 11s 2ms/step - loss: 12.5370 - mean_absolute_error: 1.6544 - val_loss: 12.5685 - val_mean_absolute_error: 1.6046\n",
      "Epoch 5/32\n",
      "4666/4681 [============================>.] - ETA: 0s - loss: 12.2569 - mean_absolute_error: 1.6271\n",
      "Epoch 5: val_mean_absolute_error improved from 1.60461 to 1.59503, saving model to NN_PredictionModel_Ref.h5\n",
      "4681/4681 [==============================] - 12s 3ms/step - loss: 12.2504 - mean_absolute_error: 1.6269 - val_loss: 12.2253 - val_mean_absolute_error: 1.5950\n",
      "Epoch 6/32\n",
      "4665/4681 [============================>.] - ETA: 0s - loss: 12.0307 - mean_absolute_error: 1.6091\n",
      "Epoch 6: val_mean_absolute_error improved from 1.59503 to 1.59384, saving model to NN_PredictionModel_Ref.h5\n",
      "4681/4681 [==============================] - 12s 3ms/step - loss: 12.0319 - mean_absolute_error: 1.6092 - val_loss: 12.5870 - val_mean_absolute_error: 1.5938\n",
      "Epoch 7/32\n",
      "4678/4681 [============================>.] - ETA: 0s - loss: 11.8122 - mean_absolute_error: 1.5955\n",
      "Epoch 7: val_mean_absolute_error improved from 1.59384 to 1.55588, saving model to NN_PredictionModel_Ref.h5\n",
      "4681/4681 [==============================] - 13s 3ms/step - loss: 11.8117 - mean_absolute_error: 1.5955 - val_loss: 12.0525 - val_mean_absolute_error: 1.5559\n",
      "Epoch 8/32\n",
      "4675/4681 [============================>.] - ETA: 0s - loss: 11.6710 - mean_absolute_error: 1.5823\n",
      "Epoch 8: val_mean_absolute_error did not improve from 1.55588\n",
      "4681/4681 [==============================] - 12s 3ms/step - loss: 11.6759 - mean_absolute_error: 1.5824 - val_loss: 11.9922 - val_mean_absolute_error: 1.6073\n",
      "Epoch 9/32\n",
      "4670/4681 [============================>.] - ETA: 0s - loss: 11.5100 - mean_absolute_error: 1.5722\n",
      "Epoch 9: val_mean_absolute_error did not improve from 1.55588\n",
      "4681/4681 [==============================] - 12s 2ms/step - loss: 11.5318 - mean_absolute_error: 1.5724 - val_loss: 11.8380 - val_mean_absolute_error: 1.5981\n",
      "Epoch 10/32\n",
      "4678/4681 [============================>.] - ETA: 0s - loss: 11.4578 - mean_absolute_error: 1.5646\n",
      "Epoch 10: val_mean_absolute_error improved from 1.55588 to 1.55452, saving model to NN_PredictionModel_Ref.h5\n",
      "4681/4681 [==============================] - 12s 2ms/step - loss: 11.4606 - mean_absolute_error: 1.5646 - val_loss: 11.8568 - val_mean_absolute_error: 1.5545\n",
      "Epoch 11/32\n",
      "4668/4681 [============================>.] - ETA: 0s - loss: 11.3971 - mean_absolute_error: 1.5588\n",
      "Epoch 11: val_mean_absolute_error did not improve from 1.55452\n",
      "4681/4681 [==============================] - 12s 2ms/step - loss: 11.3978 - mean_absolute_error: 1.5588 - val_loss: 11.5688 - val_mean_absolute_error: 1.5594\n",
      "Epoch 12/32\n",
      "4671/4681 [============================>.] - ETA: 0s - loss: 11.3294 - mean_absolute_error: 1.5536\n",
      "Epoch 12: val_mean_absolute_error improved from 1.55452 to 1.55161, saving model to NN_PredictionModel_Ref.h5\n",
      "4681/4681 [==============================] - 12s 2ms/step - loss: 11.3378 - mean_absolute_error: 1.5536 - val_loss: 11.4907 - val_mean_absolute_error: 1.5516\n",
      "Epoch 13/32\n",
      "4665/4681 [============================>.] - ETA: 0s - loss: 11.2783 - mean_absolute_error: 1.5480\n",
      "Epoch 13: val_mean_absolute_error did not improve from 1.55161\n",
      "4681/4681 [==============================] - 12s 2ms/step - loss: 11.2801 - mean_absolute_error: 1.5482 - val_loss: 11.9834 - val_mean_absolute_error: 1.7084\n",
      "Epoch 14/32\n",
      "4674/4681 [============================>.] - ETA: 0s - loss: 11.2477 - mean_absolute_error: 1.5446\n",
      "Epoch 14: val_mean_absolute_error improved from 1.55161 to 1.51120, saving model to NN_PredictionModel_Ref.h5\n",
      "4681/4681 [==============================] - 12s 3ms/step - loss: 11.2432 - mean_absolute_error: 1.5445 - val_loss: 11.4568 - val_mean_absolute_error: 1.5112\n",
      "Epoch 15/32\n",
      "4677/4681 [============================>.] - ETA: 0s - loss: 11.1889 - mean_absolute_error: 1.5410\n",
      "Epoch 15: val_mean_absolute_error did not improve from 1.51120\n",
      "4681/4681 [==============================] - 12s 3ms/step - loss: 11.1907 - mean_absolute_error: 1.5410 - val_loss: 11.5934 - val_mean_absolute_error: 1.6518\n",
      "Epoch 16/32\n",
      "4678/4681 [============================>.] - ETA: 0s - loss: 11.1815 - mean_absolute_error: 1.5381\n",
      "Epoch 16: val_mean_absolute_error did not improve from 1.51120\n",
      "4681/4681 [==============================] - 13s 3ms/step - loss: 11.1858 - mean_absolute_error: 1.5381 - val_loss: 11.4460 - val_mean_absolute_error: 1.5424\n",
      "Epoch 17/32\n",
      "4673/4681 [============================>.] - ETA: 0s - loss: 11.1541 - mean_absolute_error: 1.5349\n",
      "Epoch 17: val_mean_absolute_error did not improve from 1.51120\n",
      "4681/4681 [==============================] - 12s 3ms/step - loss: 11.1531 - mean_absolute_error: 1.5349 - val_loss: 11.2857 - val_mean_absolute_error: 1.5434\n",
      "Epoch 18/32\n",
      "4676/4681 [============================>.] - ETA: 0s - loss: 11.0955 - mean_absolute_error: 1.5321\n",
      "Epoch 18: val_mean_absolute_error did not improve from 1.51120\n",
      "4681/4681 [==============================] - 13s 3ms/step - loss: 11.0946 - mean_absolute_error: 1.5322 - val_loss: 11.2969 - val_mean_absolute_error: 1.5213\n",
      "Epoch 19/32\n",
      "4674/4681 [============================>.] - ETA: 0s - loss: 11.0833 - mean_absolute_error: 1.5299\n",
      "Epoch 19: val_mean_absolute_error did not improve from 1.51120\n",
      "4681/4681 [==============================] - 12s 3ms/step - loss: 11.0813 - mean_absolute_error: 1.5298 - val_loss: 11.3163 - val_mean_absolute_error: 1.5429\n",
      "Epoch 20/32\n",
      "4679/4681 [============================>.] - ETA: 0s - loss: 11.0571 - mean_absolute_error: 1.5282\n",
      "Epoch 20: val_mean_absolute_error did not improve from 1.51120\n",
      "4681/4681 [==============================] - 12s 3ms/step - loss: 11.0572 - mean_absolute_error: 1.5282 - val_loss: 11.2279 - val_mean_absolute_error: 1.5362\n",
      "Epoch 21/32\n",
      "4676/4681 [============================>.] - ETA: 0s - loss: 11.0326 - mean_absolute_error: 1.5263\n",
      "Epoch 21: val_mean_absolute_error improved from 1.51120 to 1.50666, saving model to NN_PredictionModel_Ref.h5\n",
      "4681/4681 [==============================] - 15s 3ms/step - loss: 11.0315 - mean_absolute_error: 1.5263 - val_loss: 11.3935 - val_mean_absolute_error: 1.5067\n",
      "Epoch 22/32\n",
      "4678/4681 [============================>.] - ETA: 0s - loss: 11.0126 - mean_absolute_error: 1.5241\n",
      "Epoch 22: val_mean_absolute_error did not improve from 1.50666\n",
      "4681/4681 [==============================] - 14s 3ms/step - loss: 11.0115 - mean_absolute_error: 1.5240 - val_loss: 11.2325 - val_mean_absolute_error: 1.5522\n",
      "Epoch 23/32\n",
      "4671/4681 [============================>.] - ETA: 0s - loss: 11.0148 - mean_absolute_error: 1.5228\n",
      "Epoch 23: val_mean_absolute_error did not improve from 1.50666\n",
      "4681/4681 [==============================] - 13s 3ms/step - loss: 11.0109 - mean_absolute_error: 1.5228 - val_loss: 11.0808 - val_mean_absolute_error: 1.5517\n",
      "Epoch 24/32\n"
     ]
    },
    {
     "name": "stdout",
     "output_type": "stream",
     "text": [
      "4669/4681 [============================>.] - ETA: 0s - loss: 10.9705 - mean_absolute_error: 1.5217\n",
      "Epoch 24: val_mean_absolute_error did not improve from 1.50666\n",
      "4681/4681 [==============================] - 13s 3ms/step - loss: 10.9700 - mean_absolute_error: 1.5217 - val_loss: 11.3323 - val_mean_absolute_error: 1.5663\n",
      "Epoch 25/32\n",
      "4672/4681 [============================>.] - ETA: 0s - loss: 10.9440 - mean_absolute_error: 1.5204\n",
      "Epoch 25: val_mean_absolute_error improved from 1.50666 to 1.50039, saving model to NN_PredictionModel_Ref.h5\n",
      "4681/4681 [==============================] - 12s 3ms/step - loss: 10.9427 - mean_absolute_error: 1.5204 - val_loss: 11.0120 - val_mean_absolute_error: 1.5004\n",
      "Epoch 26/32\n",
      "4674/4681 [============================>.] - ETA: 0s - loss: 10.9929 - mean_absolute_error: 1.5195\n",
      "Epoch 26: val_mean_absolute_error did not improve from 1.50039\n",
      "4681/4681 [==============================] - 12s 3ms/step - loss: 10.9930 - mean_absolute_error: 1.5195 - val_loss: 11.1970 - val_mean_absolute_error: 1.5289\n",
      "Epoch 27/32\n",
      "4670/4681 [============================>.] - ETA: 0s - loss: 10.9582 - mean_absolute_error: 1.5188\n",
      "Epoch 27: val_mean_absolute_error did not improve from 1.50039\n",
      "4681/4681 [==============================] - 12s 3ms/step - loss: 10.9591 - mean_absolute_error: 1.5188 - val_loss: 11.0731 - val_mean_absolute_error: 1.5112\n",
      "Epoch 28/32\n",
      "4669/4681 [============================>.] - ETA: 0s - loss: 11.0637 - mean_absolute_error: 1.5181\n",
      "Epoch 28: val_mean_absolute_error did not improve from 1.50039\n",
      "4681/4681 [==============================] - 12s 3ms/step - loss: 11.0627 - mean_absolute_error: 1.5180 - val_loss: 11.2301 - val_mean_absolute_error: 1.5110\n",
      "Epoch 29/32\n",
      "4669/4681 [============================>.] - ETA: 0s - loss: 11.0984 - mean_absolute_error: 1.5179\n",
      "Epoch 29: val_mean_absolute_error did not improve from 1.50039\n",
      "4681/4681 [==============================] - 12s 3ms/step - loss: 11.0919 - mean_absolute_error: 1.5178 - val_loss: 11.2461 - val_mean_absolute_error: 1.5187\n",
      "Epoch 30/32\n",
      "4667/4681 [============================>.] - ETA: 0s - loss: 10.9925 - mean_absolute_error: 1.5168\n",
      "Epoch 30: val_mean_absolute_error did not improve from 1.50039\n",
      "4681/4681 [==============================] - 13s 3ms/step - loss: 10.9883 - mean_absolute_error: 1.5167 - val_loss: 11.2261 - val_mean_absolute_error: 1.5140\n",
      "Epoch 31/32\n",
      "4664/4681 [============================>.] - ETA: 0s - loss: 11.4171 - mean_absolute_error: 1.5161\n",
      "Epoch 31: val_mean_absolute_error did not improve from 1.50039\n",
      "4681/4681 [==============================] - 12s 3ms/step - loss: 11.4147 - mean_absolute_error: 1.5163 - val_loss: 11.4138 - val_mean_absolute_error: 1.5960\n",
      "Epoch 32/32\n",
      "4676/4681 [============================>.] - ETA: 0s - loss: 11.0972 - mean_absolute_error: 1.5152\n",
      "Epoch 32: val_mean_absolute_error did not improve from 1.50039\n",
      "4681/4681 [==============================] - 13s 3ms/step - loss: 11.0976 - mean_absolute_error: 1.5152 - val_loss: 11.1830 - val_mean_absolute_error: 1.5154\n"
     ]
    }
   ],
   "source": [
    "# DEFINE A CALLBACK TO SAVE THE BEST MODEL WITH MINIMUM VALIDATION MAE VALUE\n",
    "# keras.callbacks.ModelCheckpoint(filepath, monitor='val_loss', verbose=0, save_best_only=False, save_weights_only=False, mode='auto', period=1)\n",
    "checkpointer = ModelCheckpoint(filepath = 'NN_PredictionModel_Ref.h5', monitor = 'val_mean_absolute_error', verbose = 1, save_best_only = True, mode = 'min')\n",
    "\n",
    "# Train the model\n",
    "test_history = model.fit(training_set, training_label, shuffle=True,\n",
    "                         validation_data = (validation_set, validation_label), \n",
    "                         epochs = 32, batch_size = 1024,\n",
    "                         callbacks = [checkpointer])"
   ]
  },
  {
   "cell_type": "code",
   "execution_count": 99,
   "metadata": {
    "_uuid": "62d2cc252457a52838047360501cfbaeb638d419"
   },
   "outputs": [
    {
     "name": "stdout",
     "output_type": "stream",
     "text": [
      "['NN_PredictionModel_Ref.h5', 'model_dl.ipynb', 'submission.csv', 'NYC_taxi_fare.csv', '.ipynb_checkpoints']\n"
     ]
    }
   ],
   "source": [
    "print(os.listdir(\".\")) "
   ]
  },
  {
   "cell_type": "code",
   "execution_count": 100,
   "metadata": {
    "_uuid": "67a80e4a88e02f4e94baa32df2e3fc6ddea4be2a"
   },
   "outputs": [
    {
     "data": {
      "image/png": "[encoded data removed]",
      "text/plain": [
       "<Figure size 432x288 with 1 Axes>"
      ]
     },
     "metadata": {
      "needs_background": "light"
     },
     "output_type": "display_data"
    },
    {
     "data": {
      "image/png": "[encoded data removed]",
      "text/plain": [
       "<Figure size 432x288 with 1 Axes>"
      ]
     },
     "metadata": {
      "needs_background": "light"
     },
     "output_type": "display_data"
    }
   ],
   "source": [
    "# PLOT THE GRAPH HERE TO TRACE MAE AND LOSS.\n",
    "\n",
    "# forms set of Y axis values\n",
    "mae = test_history.history['mean_absolute_error']\n",
    "val_mae = test_history.history['val_mean_absolute_error']\n",
    "loss = test_history.history['loss']\n",
    "val_loss = test_history.history['val_loss']\n",
    "\n",
    "# forms X axis values\n",
    "epochs = range(1, len(mae) + 1)\n",
    "\n",
    "# Process Training and Validation Accuracy\n",
    "plt.plot(epochs, mae, 'bo', label = 'New York Taxi Fare Training MAE')\n",
    "plt.plot(epochs, val_mae, 'r', label = 'New York Taxi Fare Validation MAE')\n",
    "plt.title('New York Taxi Fare Training and Validation MAE Comparison')\n",
    "plt.legend()\n",
    "plt.show()\n",
    "\n",
    "# Process Training and Validation Losses\n",
    "plt.plot(epochs, loss, 'ro', label = 'New York Taxi Fare Training Loss')\n",
    "plt.plot(epochs, val_loss, 'g', label = 'New York Taxi Fare Validation Loss')\n",
    "plt.title('New York Taxi Fare Training and Validation Loss Comparison')\n",
    "plt.legend()\n",
    "plt.show()\n",
    "\n",
    "# end of if statement\n"
   ]
  },
  {
   "cell_type": "code",
   "execution_count": 109,
   "metadata": {},
   "outputs": [
    {
     "name": "stdout",
     "output_type": "stream",
     "text": [
      "6250/6250 [==============================] - 5s 860us/step - loss: 12.6320 - mean_absolute_error: 1.5125\n",
      "MSE on test set:12.632\n",
      "MAE on test set:1.512\n"
     ]
    }
   ],
   "source": [
    "test_mse, test_mae = model.evaluate(test_set, test_label)\n",
    "print('MSE on test set:{0:.3f}\\nMAE on test set:{1:.3f}'.format(test_mse,test_mae))"
   ]
  },
  {
   "cell_type": "code",
   "execution_count": null,
   "metadata": {},
   "outputs": [],
   "source": []
  }
 ],
 "metadata": {
  "kernelspec": {
   "display_name": "Python 3 (ipykernel)",
   "language": "python",
   "name": "python3"
  },
  "language_info": {
   "codemirror_mode": {
    "name": "ipython",
    "version": 3
   },
   "file_extension": ".py",
   "mimetype": "text/x-python",
   "name": "python",
   "nbconvert_exporter": "python",
   "pygments_lexer": "ipython3",
   "version": "3.7.4"
  }
 },
 "nbformat": 4,
 "nbformat_minor": 4
}
